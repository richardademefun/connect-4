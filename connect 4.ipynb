{
 "cells": [
  {
   "cell_type": "code",
   "execution_count": 2,
   "metadata": {},
   "outputs": [],
   "source": [
    "# Specifically for the iPython Notebook environment for clearing output\n",
    "from IPython.display import clear_output\n",
    "import random\n",
    "\n",
    "# Global variables\n",
    "theBoard = [' '] * 43   # a list of empty spaces\n",
    "available = [str(num) for num in range(0,43)] # a List Comprehension\n",
    "players = [0,'X','O']   # note that players[1] == 'X' and players[-1] == 'O'"
   ]
  },
  {
   "cell_type": "code",
   "execution_count": 3,
   "metadata": {},
   "outputs": [],
   "source": [
    "#Function to only markers in position where marker already exits"
   ]
  },
  {
   "cell_type": "code",
   "execution_count": 4,
   "metadata": {},
   "outputs": [
    {
     "name": "stdout",
     "output_type": "stream",
     "text": [
      "                           Connect 4 \n",
      "           Available                        Game Grid \n",
      "             moves\n",
      "\n",
      "  36 | 37  | 38  | 39  | 40  | 41 | 42           |   |   |   |   |   |  \n",
      "  -------------------------------------         -----------------------\n",
      "  29 | 30  | 31  | 32  | 33  | 34 | 35           |   |   |   |   |   |  \n",
      "  -------------------------------------         -----------------------\n",
      "  22 | 23  | 24  | 25  | 26  | 27 | 28           |   |   |   |   |   |  \n",
      "  -------------------------------------         -----------------------\n",
      "  15 |  16 | 17  | 18  | 19  | 20 | 21           |   |   |   |   |   |  \n",
      "  -------------------------------------         -----------------------\n",
      "  8  |  9  |  10 |  11 |  12 | 13 | 14           |   |   |   |   |   |  \n",
      "  -------------------------------------         -----------------------\n",
      "  1  |  2  |  3  |  4  |  5  | 6  | 7            |   |   |   |   |   |  \n",
      "\n"
     ]
    }
   ],
   "source": [
    "def display_board(a,b):\n",
    "    print('                           Connect 4 \\n'+\n",
    "          '           Available                        Game Grid \\n'+\n",
    "           '             moves\\n\\n  '+\n",
    "          a[36]+' | '+a[37]+'  | '+a[38]+'  | '+a[39]+'  | '+a[40]+'  | '+a[41]+' | '+a[42]+'         '+b[36]+' | '+b[37]+' | '+b[38]+' | '+b[39]+' | '+b[40]+' | '+b[41]+' | '+b[42]+'\\n  '+\n",
    "          '-------------------------------------         -----------------------\\n  '+     \n",
    "          a[29]+' | '+a[30]+'  | '+a[31]+'  | '+a[32]+'  | '+a[33]+'  | '+a[34]+' | '+a[35]+'         '+b[29]+' | '+b[30]+' | '+b[31]+' | '+b[32]+' | '+b[33]+' | '+b[34]+' | '+b[35]+'\\n  '+\n",
    "          '-------------------------------------         -----------------------\\n  '+     \n",
    "          a[22]+' | '+a[23]+'  | '+a[24]+'  | '+a[25]+'  | '+a[26]+'  | '+a[27]+' | '+a[28]+'         '+b[22]+' | '+b[23]+' | '+b[24]+' | '+b[25]+' | '+b[26]+' | '+b[27]+' | '+b[28]+'\\n  '+\n",
    "          '-------------------------------------         -----------------------\\n  '+     \n",
    "          a[15]+' |  '+a[16]+' | '+a[17]+'  | '+a[18]+'  | '+a[19]+'  | '+a[20]+' | '+a[21]+'         '+b[15]+' | '+b[16]+' | '+b[17]+' | '+b[18]+' | '+b[19]+' | '+b[20]+' | '+b[21]+'\\n  '+\n",
    "          '-------------------------------------         -----------------------\\n  '+     \n",
    "          a[8]+'  |  '+a[9]+'  |  '+a[10]+' |  '+a[11]+' |  '+a[12]+' | '+a[13]+' | '+a[14]+'         '+b[8]+' | '+b[9]+' | '+b[10]+' | '+b[11]+' | '+b[12]+' | '+b[13]+' | '+b[14]+'\\n  '+\n",
    "          '-------------------------------------         -----------------------\\n  '+     \n",
    "          a[1]+'  |  '+a[2]+'  |  '+a[3]+'  |  '+a[4]+'  |  '+a[5]+'  | '+a[6]+'  | '+a[7]+'          '+b[1]+' | '+b[2]+' | '+b[3]+' | '+b[4]+' | '+b[5]+' | '+b[6]+' | '+b[7]+'\\n')\n",
    "display_board(available,theBoard)"
   ]
  },
  {
   "cell_type": "code",
   "execution_count": 5,
   "metadata": {},
   "outputs": [
    {
     "name": "stdout",
     "output_type": "stream",
     "text": [
      "Available                        Connect 4\n",
      "  moves                            grid\n",
      "\n",
      "  36|37|38|39|40|41|42          | | | | | | \n",
      " --------------------          -------------\n",
      "  29|30|31|32|33|34|35          | | | | | | \n",
      "  --------------------         -------------\n",
      "  22|23|24|25|26|27|28          | | | | | | \n",
      " --------------------          -------------\n",
      "  15|16|17|18|19|20|21          | | | | | | \n",
      " --------------------          -------------\n",
      "  8 |9 |10|11|12|13|14          | | | | | | \n",
      " --------------------          -------------\n",
      "  1 |2 |3 |4 |5 |6 |7           | | | | | | \n",
      "\n"
     ]
    }
   ],
   "source": [
    "def display_board(a,b):\n",
    "    print(f'Available                        Connect 4\\n  moves                            grid\\n\\n',\n",
    "          f' {a[36]}|{a[37]}|{a[38]}|{a[39]}|{a[40]}|{a[41]}|{a[42]}',\n",
    "          f'        {b[36]}|{b[37]}|{b[38]}|{b[39]}|{b[40]}|{b[41]}|{b[42]}\\n',\n",
    "          f'--------------------          -------------\\n',\n",
    "          f' {a[29]}|{a[30]}|{a[31]}|{a[32]}|{a[33]}|{a[34]}|{a[35]}',\n",
    "          f'        {b[29]}|{b[30]}|{b[31]}|{b[32]}|{b[33]}|{b[34]}|{b[35]}\\n ',\n",
    "          f'--------------------         -------------\\n',\n",
    "          f' {a[22]}|{a[23]}|{a[24]}|{a[25]}|{a[26]}|{a[27]}|{a[28]}',\n",
    "          f'        {b[22]}|{b[23]}|{b[24]}|{b[25]}|{b[26]}|{b[27]}|{b[28]}\\n',\n",
    "          f'--------------------          -------------\\n',\n",
    "          f' {a[15]}|{a[16]}|{a[17]}|{a[18]}|{a[19]}|{a[20]}|{a[21]}',\n",
    "          f'        {b[15]}|{b[16]}|{b[17]}|{b[18]}|{b[19]}|{b[20]}|{b[21]}\\n',\n",
    "          f'--------------------          -------------\\n',\n",
    "          f' {a[8]} |{a[9]} |{a[10]}|{a[11]}|{a[12]}|{a[13]}|{a[14]}',\n",
    "          f'        {b[8]}|{b[9]}|{b[10]}|{b[11]}|{b[12]}|{b[13]}|{b[14]}\\n',\n",
    "          f'--------------------          -------------\\n',\n",
    "          f' {a[1]} |{a[2]} |{a[3]} |{a[4]} |{a[5]} |{a[6]} |{a[7]}',\n",
    "          f'        {b[1]} |{b[2]}|{b[3]}|{b[4]}|{b[5]}|{b[6]}|{b[7]}\\n',\n",
    ")\n",
    "display_board(available,theBoard)"
   ]
  },
  {
   "cell_type": "code",
   "execution_count": 6,
   "metadata": {},
   "outputs": [],
   "source": [
    "def place_marker(avail,board,marker,position):\n",
    "    board[position] = marker\n",
    "    avail[position] = ' '"
   ]
  },
  {
   "cell_type": "code",
   "execution_count": 7,
   "metadata": {},
   "outputs": [],
   "source": [
    "def win_check(board,mark):\n",
    "# Across\n",
    "    return ((board[3] ==  board[4] ==  board[5] == board[6] == mark) or\n",
    "    (board[1] ==  board[2] ==  board[3] == board[4] == mark) or\n",
    "    (board[2] ==  board[3] ==  board[4] == board[5] == mark) or \n",
    "    (board[4] ==  board[5] ==  board[6] == board[7] == mark) or \n",
    "    (board[8] ==  board[9] ==  board[10] == board[11] == mark) or \n",
    "    (board[9] ==  board[10] ==  board[11] == board[12] == mark) or \n",
    "    (board[10] ==  board[11] ==  board[12] == board[13] == mark) or \n",
    "    (board[11] ==  board[12] ==  board[13] == board[14] == mark) or\n",
    "    (board[15] ==  board[16] ==  board[17] == board[18] == mark) or \n",
    "    (board[16] ==  board[17] ==  board[18] == board[19] == mark) or \n",
    "    (board[17] ==  board[18] ==  board[19] == board[20] == mark) or \n",
    "    (board[18] ==  board[19] ==  board[20] == board[21] == mark) or\n",
    "            \n",
    "    (board[22] ==  board[23] ==  board[24] == board[25] == mark) or\n",
    "    (board[23] ==  board[24] ==  board[25] == board[26] == mark) or\n",
    "    (board[24] ==  board[25] ==  board[26] == board[27] == mark) or \n",
    "    (board[25] ==  board[26] ==  board[27] == board[28] == mark) or \n",
    "    (board[29] ==  board[30] ==  board[31] == board[32] == mark) or \n",
    "    (board[30] ==  board[31] ==  board[32] == board[33] == mark) or \n",
    "    (board[31] ==  board[32] ==  board[33] == board[34] == mark) or \n",
    "    (board[32] ==  board[33] ==  board[34] == board[35] == mark) or\n",
    "    (board[36] ==  board[37] ==  board[38] == board[39] == mark) or \n",
    "    (board[37] ==  board[38] ==  board[39] == board[40] == mark) or \n",
    "    (board[38] ==  board[39] ==  board[40] == board[41] == mark) or \n",
    "    (board[39] ==  board[40] ==  board[41] == board[42] == mark) or\n",
    "#Horizontal\n",
    "    (board[1] ==  board[8] ==  board[15] == board[22] == mark) or\n",
    "    (board[8] ==  board[15] ==  board[22] == board[29] == mark) or\n",
    "    (board[15] ==  board[22] ==  board[29] == board[36] == mark) or \n",
    "    (board[2] ==  board[9] ==  board[16] == board[23] == mark) or \n",
    "    (board[9] ==  board[16] ==  board[23] == board[30] == mark) or \n",
    "    (board[16] ==  board[23] ==  board[30] == board[37] == mark) or \n",
    "    (board[3] ==  board[10] ==  board[17] == board[24] == mark) or \n",
    "    (board[10] ==  board[17] ==  board[24] == board[31] == mark) or\n",
    "    (board[17] ==  board[24] ==  board[31] == board[38] == mark) or \n",
    "    (board[4] ==  board[11] ==  board[18] == board[25] == mark) or \n",
    "    (board[11] ==  board[18] ==  board[25] == board[32] == mark) or \n",
    "    (board[18] ==  board[25] ==  board[32] == board[39] == mark) or\n",
    "            \n",
    "    (board[5] ==  board[12] ==  board[19] == board[26] == mark) or\n",
    "    (board[12] ==  board[19] ==  board[26] == board[33] == mark) or\n",
    "    (board[19] ==  board[26] ==  board[33] == board[40] == mark) or \n",
    "    (board[6] ==  board[13] ==  board[20] == board[27] == mark) or \n",
    "    (board[13] ==  board[20] ==  board[27] == board[34] == mark) or \n",
    "    (board[20] ==  board[27] ==  board[34] == board[41] == mark) or \n",
    "    (board[7] ==  board[14] ==  board[21] == board[28] == mark) or \n",
    "    (board[14] ==  board[21] ==  board[28] == board[35] == mark) or\n",
    "    (board[21] ==  board[28] ==  board[35] == board[42] == mark) or \n",
    "#Diagonal          \n",
    "    (board[15] ==  board[23] ==  board[31] == board[39] == mark) or \n",
    "    (board[8] ==  board[16] ==  board[24] == board[32] == mark) or\n",
    "    (board[16] ==  board[24] ==  board[32] == board[40] == mark) or\n",
    "    (board[1] ==  board[9] ==  board[17] == board[25] == mark) or\n",
    "    (board[9] ==  board[17] ==  board[25] == board[33] == mark) or \n",
    "    (board[17] ==  board[25] ==  board[33] == board[41] == mark) or \n",
    "    (board[2] ==  board[10] ==  board[18] == board[26] == mark) or \n",
    "    (board[10] ==  board[18] ==  board[26] == board[34] == mark) or \n",
    "    (board[18] ==  board[26] ==  board[34] == board[42] == mark) or \n",
    "    (board[3] ==  board[11] ==  board[19] == board[27] == mark) or\n",
    "    (board[11] ==  board[19] ==  board[27] == board[35] == mark) or\n",
    "    (board[4] ==  board[12] ==  board[20] == board[28] == mark) or\n",
    "\n",
    "    (board[4] ==  board[10] ==  board[16] == board[22] == mark) or \n",
    "    (board[5] ==  board[11] ==  board[17] == board[23] == mark) or\n",
    "    (board[11] ==  board[17] ==  board[23] == board[29] == mark) or\n",
    "    (board[6] ==  board[12] ==  board[18] == board[24] == mark) or\n",
    "    (board[12] ==  board[18] ==  board[24] == board[30] == mark) or \n",
    "    (board[18] ==  board[24] ==  board[30] == board[36] == mark) or \n",
    "    (board[7] ==  board[13] ==  board[19] == board[25] == mark) or \n",
    "    (board[13] ==  board[19] ==  board[25] == board[31] == mark) or \n",
    "    (board[19] ==  board[25] ==  board[31] == board[37] == mark) or \n",
    "    (board[14] ==  board[20] ==  board[26] == board[32] == mark) or\n",
    "    (board[20] ==  board[26] ==  board[32] == board[38] == mark) or\n",
    "    (board[21] ==  board[27] ==  board[33] == board[39] == mark))\n"
   ]
  },
  {
   "cell_type": "code",
   "execution_count": 8,
   "metadata": {},
   "outputs": [],
   "source": [
    "def random_player():\n",
    "    return random.choice((-1, 1))\n",
    "    \n",
    "def space_check(board,position):\n",
    "    return board[position] == ' '\n",
    "\n",
    "def full_board_check(board):\n",
    "    return ' ' not in board[1:]"
   ]
  },
  {
   "cell_type": "code",
   "execution_count": 9,
   "metadata": {},
   "outputs": [],
   "source": [
    "def player_choice(board,player):\n",
    "    position = 0\n",
    "    list1 = [item for item in range(1, 43)] \n",
    "\n",
    "    while position not in list1 or not space_check(board, position):\n",
    "        try:\n",
    "            position = int(input('Player %s, choose your next position: (1-42) '%(player)))\n",
    "        except:\n",
    "            print(\"I'm sorry, please try again.\")\n",
    "        \n",
    "    return position"
   ]
  },
  {
   "cell_type": "code",
   "execution_count": 10,
   "metadata": {},
   "outputs": [],
   "source": [
    "def replay():\n",
    "    assert input('Do you want to play again? Enter Yes or No: ').lower() == 'no',\"Thanks for playing.\""
   ]
  },
  {
   "cell_type": "code",
   "execution_count": null,
   "metadata": {},
   "outputs": [
    {
     "name": "stdout",
     "output_type": "stream",
     "text": [
      "Available                        Connect 4\n",
      "  moves                            grid\n",
      "\n",
      "  36|37|38|39|40|41|42          | | | | | | \n",
      " --------------------          -------------\n",
      "  29|30|31|32|33|34|35          | | | | | | \n",
      "  --------------------         -------------\n",
      "  22|23|24|25|26|27|28          | | | | | | \n",
      " --------------------          -------------\n",
      "  15|16|17|18|19|20|21          | | | | | | \n",
      " --------------------          -------------\n",
      "  8 |  |10|11|12|13|14          |X| | | | | \n",
      " --------------------          -------------\n",
      "    |2 |3 |4 |5 |6 |7         O | | | | | | \n",
      "\n"
     ]
    }
   ],
   "source": [
    "while True:\n",
    "    clear_output()\n",
    "    print('Connect 4!')\n",
    "    \n",
    "    toggle = random_player()\n",
    "    player = players[toggle]\n",
    "    print('For this round, Player %s will go first!' %(player))\n",
    "    \n",
    "    game_on = True\n",
    "    print('lets play')\n",
    "    while game_on:\n",
    "        display_board(available,theBoard)\n",
    "        position = player_choice(theBoard,player)\n",
    "        place_marker(available,theBoard,player,position)\n",
    "\n",
    "        if win_check(theBoard, player):\n",
    "            display_board(available,theBoard)\n",
    "            print('Congratulations! Player '+player+' wins!')\n",
    "            game_on = False\n",
    "        else:\n",
    "            if full_board_check(theBoard):\n",
    "                display_board(available,theBoard)\n",
    "                print('The game is a draw!')\n",
    "                break\n",
    "            else:\n",
    "                toggle *= -1\n",
    "                player = players[toggle]\n",
    "                clear_output()\n",
    "\n",
    "    # reset the board and available moves list\n",
    "    theBoard = [' '] * 43\n",
    "    available = [str(num) for num in range(0,43)]\n",
    "    \n",
    "    if not replay():\n",
    "        from IPython.display import clear_output\n",
    "        break"
   ]
  },
  {
   "cell_type": "code",
   "execution_count": null,
   "metadata": {},
   "outputs": [],
   "source": []
  },
  {
   "cell_type": "code",
   "execution_count": null,
   "metadata": {},
   "outputs": [],
   "source": []
  }
 ],
 "metadata": {
  "kernelspec": {
   "display_name": "Python 3",
   "language": "python",
   "name": "python3"
  },
  "language_info": {
   "codemirror_mode": {
    "name": "ipython",
    "version": 3
   },
   "file_extension": ".py",
   "mimetype": "text/x-python",
   "name": "python",
   "nbconvert_exporter": "python",
   "pygments_lexer": "ipython3",
   "version": "3.7.4"
  }
 },
 "nbformat": 4,
 "nbformat_minor": 2
}
